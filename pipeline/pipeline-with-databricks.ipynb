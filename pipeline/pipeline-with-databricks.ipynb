{
 "cells": [
  {
   "cell_type": "markdown",
   "metadata": {},
   "source": [
    "# Execute a Databricks Job in an AzureML Pipeline (v2)\n",
    "\n",
    "In this notebook we show how you can leverage a Databricks component in AzureML that uses the Databricks Job API to execute a Databricks job in a pipeline\n",
    "\n",
    "## Connect to AzureML Client"
   ]
  },
  {
   "cell_type": "code",
   "execution_count": null,
   "metadata": {},
   "outputs": [],
   "source": [
    "from azure.ai.ml import MLClient\n",
    "from azure.identity import DefaultAzureCredential\n",
    "\n",
    "ml_client = MLClient.from_config(credential=DefaultAzureCredential())"
   ]
  },
  {
   "cell_type": "markdown",
   "metadata": {},
   "source": [
    "## Create pipeline"
   ]
  },
  {
   "cell_type": "code",
   "execution_count": null,
   "metadata": {},
   "outputs": [],
   "source": [
    "from azure.ai.ml.dsl import pipeline\n",
    "from azure.ai.ml import load_component\n",
    "\n",
    "databricks = ml_client.components.get(name=\"execute_databricks_notebook\", version=\"1\")\n",
    "train_model = load_component(\"./train_component.yml\")\n",
    "\n",
    "@pipeline()\n",
    "def my_pipeline_with_databricks():\n",
    "\n",
    "    adb = databricks(\n",
    "        databricks_host=\"https://adb-<number>.<2digitnumber>.azuredatabricks.net/\",\n",
    "        notebook_path=\"/Users/<user_name>/<notebook_name>\",\n",
    "        kv_url=\"https://<keyvault_name>.vault.azure.net/\",\n",
    "        kv_secret_name=\"<secret_name_for_databricks_token>\",\n",
    "        num_workers=2,\n",
    "        node_type_id=\"Standard_D3_v2\",\n",
    "        spark_version=\"7.3.x-scala2.12\"\n",
    "    )\n",
    "    adb.outputs.output_path.mode = \"upload\"\n",
    "\n",
    "    train = train_model(data=adb.outputs.output_path)\n",
    "\n",
    "pipeline_job = my_pipeline_with_databricks()\n",
    "\n",
    "# set pipeline level compute\n",
    "pipeline_job.settings.default_compute = \"cpu-cluster\""
   ]
  },
  {
   "cell_type": "markdown",
   "metadata": {},
   "source": [
    "## Submit pipeline job"
   ]
  },
  {
   "cell_type": "code",
   "execution_count": null,
   "metadata": {},
   "outputs": [],
   "source": [
    "# Submit pipeline job to workspace\n",
    "pipeline_job = ml_client.jobs.create_or_update(\n",
    "    pipeline_job, experiment_name=\"adb_pipeline\"\n",
    ")\n",
    "pipeline_job"
   ]
  }
 ],
 "metadata": {
  "kernelspec": {
   "display_name": "Python 3.10.4 ('azureml_py310_sdkv2')",
   "language": "python",
   "name": "python3"
  },
  "language_info": {
   "codemirror_mode": {
    "name": "ipython",
    "version": 3
   },
   "file_extension": ".py",
   "mimetype": "text/x-python",
   "name": "python",
   "nbconvert_exporter": "python",
   "pygments_lexer": "ipython3",
   "version": "3.10.8"
  },
  "orig_nbformat": 4,
  "vscode": {
   "interpreter": {
    "hash": "2139c70ac98f3202d028164a545621647e07f47fd6f5d8ac55cf952bf7c15ed1"
   }
  }
 },
 "nbformat": 4,
 "nbformat_minor": 2
}
